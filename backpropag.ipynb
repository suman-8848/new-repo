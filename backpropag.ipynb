{
  "nbformat": 4,
  "nbformat_minor": 0,
  "metadata": {
    "colab": {
      "provenance": [],
      "authorship_tag": "ABX9TyNIf1Xj/WdNlIBRlVZfeC8d",
      "include_colab_link": true
    },
    "kernelspec": {
      "name": "python3",
      "display_name": "Python 3"
    },
    "language_info": {
      "name": "python"
    }
  },
  "cells": [
    {
      "cell_type": "markdown",
      "metadata": {
        "id": "view-in-github",
        "colab_type": "text"
      },
      "source": [
        "<a href=\"https://colab.research.google.com/github/suman-8848/new-repo/blob/main/backpropag.ipynb\" target=\"_parent\"><img src=\"https://colab.research.google.com/assets/colab-badge.svg\" alt=\"Open In Colab\"/></a>"
      ]
    },
    {
      "cell_type": "code",
      "execution_count": null,
      "metadata": {
        "id": "Q2cy-SsrhjJe",
        "colab": {
          "base_uri": "https://localhost:8080/"
        },
        "outputId": "2f0101ad-ab7b-4608-f02e-1a934354da58"
      },
      "outputs": [
        {
          "output_type": "stream",
          "name": "stdout",
          "text": [
            "8.877864724459159e-05\n",
            "0.999893845780719\n",
            "0.9998421220628553\n",
            "7.87229264346149e-05\n"
          ]
        }
      ],
      "source": [
        "import numpy as np\n",
        "input = np.array([\n",
        "[0,0],\n",
        "[0,1],\n",
        "[1,0],\n",
        "[1,1]\n",
        " ])\n",
        "actual_output = [0,1,1,0]\n",
        "#initialize weight and bias\n",
        "weight = np.array([[0.21,0.15],\n",
        "                   [-0.4,0.1],\n",
        "                   [-0.2,0.3]])\n",
        "bias = [-0.3,0.25,-0.4]\n",
        "lear_rate  = 0.1\n",
        "epoch = 1000000\n",
        "#supplying inputs\n",
        "for k in range (epoch):\n",
        "  for i in range(0,4):\n",
        "    oj1 = np.dot(input[i],weight[0])+1*bias[0]\n",
        "    # print(oj1)\n",
        "    net_oj1 = 1/(1+np.exp(-oj1))\n",
        "    oj2 = np.dot(input[i],weight[1])+1*bias[1]\n",
        "    net_oj2 = 1/(1+np.exp(-oj2))\n",
        "    ok3 = np.dot(weight[2],np.array([net_oj1,net_oj2])) + bias[2]\n",
        "    # print(ok3)\n",
        "    predict = 1/(1+np.exp(-ok3))\n",
        "    # print(predict)\n",
        "    #calculating error\n",
        "    sigm = 1/(1+np.exp(-predict))\n",
        "    error = (actual_output[i]-predict)*(sigm)*(1-sigm)\n",
        "    # print(error)\n",
        "    delin1 = weight[2][0]*error\n",
        "    delin2 = weight[2][1]*error\n",
        "    delj1 = delin1 * net_oj1*(1-net_oj1)\n",
        "    delj2 = delin2 * net_oj2*(1-net_oj2)\n",
        "    # print(delj1)\n",
        "    # print(delj2)\n",
        "    #updating weight and biases\n",
        "    weight[2][0] += lear_rate*error*net_oj1\n",
        "    weight[2][1] += lear_rate*error*net_oj2\n",
        "    weight[0][0] += lear_rate*delj1* input[i][0]\n",
        "    weight[0][1] += lear_rate*delj1* input[i][1]\n",
        "    weight[1][0] += lear_rate*delj2* input[i][0]\n",
        "    weight[1][1] += lear_rate*delj2* input[i][1]\n",
        "    bias[2] += lear_rate*error*1\n",
        "    bias[1] += lear_rate*delj2*1\n",
        "    bias[0] += lear_rate*delj1*1\n",
        "\n",
        "    # print(bias)\n",
        "#validating\n",
        "for i in range(4):\n",
        "  oj1 = np.dot(input[i],weight[0])+1*bias[0]\n",
        "  net_oj1 = 1/(1+np.exp(-oj1))\n",
        "  oj2 = np.dot(input[i],weight[1])+1*bias[1]\n",
        "  net_oj2 = 1/(1+np.exp(-oj2))\n",
        "  ok3 = np.dot(weight[2],np.array([net_oj1,net_oj2])) + bias[2]\n",
        "  predict = 1/(1+np.exp(-ok3))\n",
        "  print(predict)"
      ]
    },
    {
      "cell_type": "code",
      "source": [],
      "metadata": {
        "id": "WPQh8MDWNJxm"
      },
      "execution_count": null,
      "outputs": []
    },
    {
      "cell_type": "code",
      "source": [],
      "metadata": {
        "id": "w6_x9NnShSw5"
      },
      "execution_count": null,
      "outputs": []
    }
  ]
}